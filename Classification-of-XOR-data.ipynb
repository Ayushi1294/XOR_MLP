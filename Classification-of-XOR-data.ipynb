{
 "cells": [
  {
   "cell_type": "markdown",
   "id": "a6f3bee2",
   "metadata": {},
   "source": [
    "# Classification of XOR data "
   ]
  },
  {
   "cell_type": "code",
   "execution_count": 249,
   "id": "87dc5050",
   "metadata": {},
   "outputs": [],
   "source": [
    "import torch\n",
    "import torch.nn as nn\n",
    "import torch.nn.functional as F\n",
    "import pandas as pd\n",
    "import numpy as np\n",
    "import matplotlib.pyplot as plt"
   ]
  },
  {
   "cell_type": "code",
   "execution_count": 250,
   "id": "ecbd1642",
   "metadata": {},
   "outputs": [],
   "source": [
    "class Net(nn.Module):\n",
    "    \n",
    "    def __init__(self):\n",
    "        super(Net, self).__init__()\n",
    "        self.fc1 = nn.Linear(2, 3)\n",
    "        self.fc2 = nn.Linear(3, 3)\n",
    "        self.fc3 = nn.Linear(3, 3)\n",
    "        self.fc4 = nn.Linear(3, 3)\n",
    "        self.fc5 = nn.Linear(3, 2)\n",
    "        \n",
    "    def forward(self, x):\n",
    "        x = F.relu(self.fc1(x))\n",
    "        x = F.relu(self.fc2(x))\n",
    "        x = F.relu(self.fc3(x))\n",
    "        x = F.relu(self.fc4(x))\n",
    "        x = self.fc5(x)\n",
    "        return F.log_softmax(x)\n",
    "        #return F.softmax(x)\n",
    "\n",
    "#%% plot function\n",
    "        \n",
    "def plot_data(X, y, filename):\n",
    "    plt.scatter(X[:, 0], X[:, 1], c=y, cmap=plt.cm.Spectral, s = 1)\n",
    "    plt.savefig(filename)\n",
    "    plt.close()\n",
    "        \n",
    "def plot_decision_boundary(clf, X, y):\n",
    "    # Set min and max values and give it some padding\n",
    "    #x_min, x_max = X[:, 0].min() - .1, X[:, 0].max() + .1\n",
    "    #y_min, y_max = X[:, 1].min() - .1, X[:, 1].max() + .1\n",
    "    x_min, x_max = -0.5, 1.5\n",
    "    y_min, y_max = -0.5, 1.5\n",
    "    h = 0.01\n",
    "    # Generate a grid of points with distance h between them\n",
    "    xx, yy = np.meshgrid(np.arange(x_min, x_max, h), np.arange(y_min, y_max, h))\n",
    "    # Predict the function value for the whole gid\n",
    "    #Z = clf.predict(np.c_[xx.ravel(), yy.ravel()])\n",
    "    X_out = net(torch.tensor(np.c_[xx.ravel(), yy.ravel()], dtype = torch.float))\n",
    "    Z = X_out.data.max(1)[1]\n",
    "    # Z.shape\n",
    "    Z = Z.reshape(xx.shape)\n",
    "    # Plot the contour and training examples\n",
    "    plt.contourf(xx, yy, Z, cmap=plt.cm.Spectral)\n",
    "    plt.scatter(X[:, 0], X[:, 1], c=y, cmap=plt.cm.Spectral, s = 1)\n",
    "#     plt.savefig(filename)\n",
    "#     plt.close()"
   ]
  },
  {
   "cell_type": "markdown",
   "id": "b5a593bb",
   "metadata": {},
   "source": [
    "## Read XOR data"
   ]
  },
  {
   "cell_type": "code",
   "execution_count": 251,
   "id": "3bb278cb",
   "metadata": {},
   "outputs": [],
   "source": [
    "xor_data = pd.read_csv('XOR.csv')"
   ]
  },
  {
   "cell_type": "code",
   "execution_count": 252,
   "id": "05ecd069",
   "metadata": {},
   "outputs": [],
   "source": [
    "X = xor_data.values[:, 0:2]  # Take only the first two features.     \n",
    "X = torch.tensor(X, dtype = torch.float)   \n",
    "y = xor_data.values[:, 2]\n",
    "y = torch.tensor(y, dtype = torch.long)"
   ]
  },
  {
   "cell_type": "code",
   "execution_count": 253,
   "id": "38d0edaa",
   "metadata": {},
   "outputs": [
    {
     "data": {
      "text/plain": [
       "<matplotlib.collections.PathCollection at 0x297590fa880>"
      ]
     },
     "execution_count": 253,
     "metadata": {},
     "output_type": "execute_result"
    },
    {
     "data": {
      "image/png": "[encoded data removed]",
      "text/plain": [
       "<Figure size 432x288 with 1 Axes>"
      ]
     },
     "metadata": {
      "needs_background": "light"
     },
     "output_type": "display_data"
    }
   ],
   "source": [
    "plt.scatter(X[:, 0], X[:, 1], c=y, cmap=plt.cm.Spectral, s = 50)"
   ]
  },
  {
   "cell_type": "markdown",
   "id": "0dcba124",
   "metadata": {},
   "source": [
    "## Part a"
   ]
  },
  {
   "cell_type": "code",
   "execution_count": 254,
   "id": "37a98bc0",
   "metadata": {},
   "outputs": [
    {
     "name": "stdout",
     "output_type": "stream",
     "text": [
      "Epoch  0 Loss  0.736347496509552\n",
      "Epoch  10 Loss  0.6955940127372742\n",
      "Epoch  20 Loss  0.6918262243270874\n",
      "Epoch  30 Loss  0.6840749979019165\n",
      "Epoch  40 Loss  0.6642764806747437\n",
      "Epoch  50 Loss  0.6278240084648132\n",
      "Epoch  60 Loss  0.6028811931610107\n",
      "Epoch  70 Loss  0.5622925162315369\n",
      "Epoch  80 Loss  0.5042256712913513\n",
      "Epoch  90 Loss  0.40449467301368713\n",
      "Epoch  100 Loss  0.22960808873176575\n",
      "Epoch  100 Loss  0.22960808873176575\n",
      "Training accuracy is  1.0\n",
      "Training accuracy is  1.0\n"
     ]
    },
    {
     "name": "stderr",
     "output_type": "stream",
     "text": [
      "<ipython-input-250-2500588065da>:26: UserWarning: Implicit dimension choice for log_softmax has been deprecated. Change the call to include dim=X as an argument.\n",
      "  return F.log_softmax(x)\n"
     ]
    }
   ],
   "source": [
    "torch.manual_seed(1)\n",
    "\n",
    "#%% train\n",
    "net = Net()\n",
    "\n",
    "# create a stochastic gradient descent optimizer\n",
    "learning_rate = .01\n",
    "# optimizer = torch.optim.SGD(net.parameters(), lr=learning_rate, momentum=0.9)\n",
    "optimizer = torch.optim.Adam(net.parameters(), lr=learning_rate)\n",
    "\n",
    "\n",
    "# create a loss function\n",
    "#criterion = nn.CrossEntropyLoss()\n",
    "criterion = nn.NLLLoss()\n",
    "\n",
    "nepochs = 20000\n",
    "data, target = X, y\n",
    "# run the main training loop\n",
    "for epoch in range(nepochs):\n",
    "#    adjust learning rate if desired\n",
    "#    if epoch % 3000 == 0 and epoch <= 24000:\n",
    "#        for g in optimizer.param_groups:\n",
    "#            g['lr'] = g['lr']/2\n",
    "    optimizer.zero_grad()\n",
    "    # forward propagate\n",
    "    net_out = net(data)\n",
    "    # compute loss\n",
    "    loss = criterion(net_out, target)\n",
    "    \n",
    "    # backpropagate\n",
    "    loss.backward()\n",
    "    # update parameters\n",
    "    optimizer.step()\n",
    "    # print out report\n",
    "    \n",
    "    if epoch % 10 == 0:\n",
    "        print('Epoch ', epoch, 'Loss ', loss.item())\n",
    "        net_out = net(data)\n",
    "        pred = net_out.data.max(1)[1]  # get the index of the max log-probability\n",
    "        correctidx = pred.eq(target.data) \n",
    "        ncorrect = correctidx.sum()\n",
    "        accuracy = ncorrect.item()/len(data)\n",
    "        \n",
    "        if accuracy == 1:\n",
    "            print('Epoch ', epoch, 'Loss ', loss.item())\n",
    "            print('Training accuracy is ', accuracy)\n",
    "            break\n",
    "        \n",
    "#%% compute accuracy on training data\n",
    "\n",
    "net_out = net(data)\n",
    "pred = net_out.data.max(1)[1]  # get the index of the max log-probability\n",
    "correctidx = pred.eq(target.data) \n",
    "ncorrect = correctidx.sum()\n",
    "accuracy = ncorrect.item()/len(data)\n",
    "print('Training accuracy is ', accuracy)"
   ]
  },
  {
   "cell_type": "code",
   "execution_count": 255,
   "id": "70d538b7",
   "metadata": {},
   "outputs": [
    {
     "name": "stdout",
     "output_type": "stream",
     "text": [
      "Parameter containing:\n",
      "tensor([[ 0.1639, -0.3121],\n",
      "        [-0.4008,  0.5591],\n",
      "        [-1.0788,  1.0675]], requires_grad=True)\n",
      "Parameter containing:\n",
      "tensor([[-0.1507,  0.3171, -0.6292],\n",
      "        [ 0.0334,  0.6153, -0.8638],\n",
      "        [-0.0520,  0.0837, -0.0023]], requires_grad=True)\n",
      "Parameter containing:\n",
      "tensor([[-0.4570, -0.4523, -0.2490],\n",
      "        [-0.5351, -0.6266,  0.3442],\n",
      "        [ 0.1819, -1.1741,  0.3579]], requires_grad=True)\n",
      "Parameter containing:\n",
      "tensor([[-1.1541, -0.7291, -0.7525],\n",
      "        [ 1.4792,  0.4723,  0.9148],\n",
      "        [-0.2683,  0.5665, -0.2443]], requires_grad=True)\n",
      "Parameter containing:\n",
      "tensor([[ 1.2513, -1.0264,  0.1698],\n",
      "        [-1.1212,  0.6567, -0.5551]], requires_grad=True)\n"
     ]
    }
   ],
   "source": [
    "print(net.fc1.weight)\n",
    "print(net.fc2.weight)\n",
    "print(net.fc3.weight)\n",
    "print(net.fc4.weight)\n",
    "print(net.fc5.weight)"
   ]
  },
  {
   "cell_type": "code",
   "execution_count": 256,
   "id": "e5f05961",
   "metadata": {},
   "outputs": [
    {
     "data": {
      "text/plain": [
       "<matplotlib.collections.PathCollection at 0x2975910fe50>"
      ]
     },
     "execution_count": 256,
     "metadata": {},
     "output_type": "execute_result"
    },
    {
     "data": {
      "image/png": "[encoded data removed]",
      "text/plain": [
       "<Figure size 432x288 with 1 Axes>"
      ]
     },
     "metadata": {
      "needs_background": "light"
     },
     "output_type": "display_data"
    }
   ],
   "source": [
    "plt.scatter(X[:, 0], X[:, 1], c=pred, cmap=plt.cm.Spectral, s = 50)"
   ]
  },
  {
   "cell_type": "code",
   "execution_count": 257,
   "id": "25bb3c06",
   "metadata": {},
   "outputs": [
    {
     "name": "stderr",
     "output_type": "stream",
     "text": [
      "<ipython-input-250-2500588065da>:26: UserWarning: Implicit dimension choice for log_softmax has been deprecated. Change the call to include dim=X as an argument.\n",
      "  return F.log_softmax(x)\n"
     ]
    },
    {
     "data": {
      "image/png": "[encoded data removed]",
      "text/plain": [
       "<Figure size 432x288 with 1 Axes>"
      ]
     },
     "metadata": {
      "needs_background": "light"
     },
     "output_type": "display_data"
    }
   ],
   "source": [
    "plot_decision_boundary(net, X, y)"
   ]
  },
  {
   "cell_type": "markdown",
   "id": "8e30755a",
   "metadata": {},
   "source": [
    "## Part b"
   ]
  },
  {
   "cell_type": "code",
   "execution_count": 258,
   "id": "d6112748",
   "metadata": {},
   "outputs": [
    {
     "name": "stderr",
     "output_type": "stream",
     "text": [
      "<ipython-input-250-2500588065da>:26: UserWarning: Implicit dimension choice for log_softmax has been deprecated. Change the call to include dim=X as an argument.\n",
      "  return F.log_softmax(x)\n"
     ]
    },
    {
     "name": "stdout",
     "output_type": "stream",
     "text": [
      "Epoch  0 Loss  0.736347496509552\n",
      "Epoch  10 Loss  0.7030571699142456\n",
      "Epoch  20 Loss  0.6964033842086792\n",
      "Epoch  30 Loss  0.7019540667533875\n",
      "Epoch  40 Loss  0.6940149664878845\n",
      "Epoch  50 Loss  0.6942743062973022\n",
      "Epoch  60 Loss  0.6948930025100708\n",
      "Epoch  70 Loss  0.6932206153869629\n",
      "Epoch  80 Loss  0.6933157444000244\n",
      "Epoch  90 Loss  0.6934067010879517\n",
      "Epoch  100 Loss  0.6930292844772339\n",
      "Epoch  110 Loss  0.6930426359176636\n",
      "Epoch  120 Loss  0.6930334568023682\n",
      "Epoch  130 Loss  0.6929301023483276\n",
      "Epoch  140 Loss  0.6929093599319458\n",
      "Epoch  150 Loss  0.6928759217262268\n",
      "Epoch  160 Loss  0.6928195953369141\n",
      "Epoch  170 Loss  0.6927758455276489\n",
      "Epoch  180 Loss  0.692721962928772\n",
      "Epoch  190 Loss  0.6926549077033997\n",
      "Epoch  200 Loss  0.6925806999206543\n",
      "Epoch  210 Loss  0.6924907565116882\n",
      "Epoch  220 Loss  0.6923809051513672\n",
      "Epoch  230 Loss  0.6922467947006226\n",
      "Epoch  240 Loss  0.6920803189277649\n",
      "Epoch  250 Loss  0.6918716430664062\n",
      "Epoch  260 Loss  0.6916032433509827\n",
      "Epoch  270 Loss  0.6912493109703064\n",
      "Epoch  280 Loss  0.6907780766487122\n",
      "Epoch  290 Loss  0.6901344060897827\n",
      "Epoch  300 Loss  0.6892292499542236\n",
      "Epoch  310 Loss  0.6878835558891296\n",
      "Epoch  320 Loss  0.6858563423156738\n",
      "Epoch  330 Loss  0.6826603412628174\n",
      "Epoch  340 Loss  0.6771402359008789\n",
      "Epoch  350 Loss  0.6668539047241211\n",
      "Epoch  360 Loss  0.6496284008026123\n",
      "Epoch  370 Loss  0.6267862319946289\n",
      "Epoch  380 Loss  0.6048355102539062\n",
      "Epoch  390 Loss  0.5781575441360474\n",
      "Epoch  400 Loss  0.5531142354011536\n",
      "Epoch  410 Loss  0.5251194834709167\n",
      "Epoch  420 Loss  0.47251343727111816\n",
      "Epoch  430 Loss  0.33674052357673645\n",
      "Epoch  440 Loss  0.13183200359344482\n",
      "Epoch  450 Loss  0.07590972632169724\n",
      "Epoch  460 Loss  0.050891146063804626\n",
      "Epoch  470 Loss  0.03840913996100426\n",
      "Epoch  480 Loss  0.02952653542160988\n",
      "Epoch  490 Loss  0.023118603974580765\n",
      "Epoch  500 Loss  0.018494386225938797\n",
      "Epoch  510 Loss  0.015132399275898933\n",
      "Epoch  520 Loss  0.012639826163649559\n",
      "Epoch  530 Loss  0.010772700421512127\n",
      "Epoch  540 Loss  0.009337419643998146\n",
      "Epoch  550 Loss  0.008191618137061596\n",
      "Epoch  560 Loss  0.007255645468831062\n",
      "Epoch  570 Loss  0.006476171314716339\n",
      "Epoch  580 Loss  0.005820933263748884\n",
      "Epoch  590 Loss  0.005263143219053745\n",
      "Epoch  600 Loss  0.0047797574661672115\n",
      "Epoch  610 Loss  0.004357920493930578\n",
      "Epoch  620 Loss  0.00399001082405448\n",
      "Epoch  630 Loss  0.003665016498416662\n",
      "Epoch  640 Loss  0.0033778874203562737\n",
      "Epoch  650 Loss  0.0031229897867888212\n",
      "Epoch  660 Loss  0.002895197132602334\n",
      "Epoch  670 Loss  0.0026914123445749283\n",
      "Epoch  680 Loss  0.0025087494868785143\n",
      "Epoch  690 Loss  0.0023443487007170916\n",
      "Epoch  700 Loss  0.002195940585806966\n",
      "Epoch  710 Loss  0.002061576582491398\n",
      "Epoch  720 Loss  0.0019397219875827432\n",
      "Epoch  730 Loss  0.0018288096180185676\n",
      "Epoch  740 Loss  0.0017283111810684204\n",
      "Epoch  750 Loss  0.0016363273607566953\n",
      "Epoch  760 Loss  0.0015520616434514523\n",
      "Epoch  770 Loss  0.0014745648950338364\n",
      "Epoch  780 Loss  0.0014031557366251945\n",
      "Epoch  790 Loss  0.0013373307883739471\n",
      "Epoch  800 Loss  0.001276317983865738\n",
      "Epoch  810 Loss  0.0012198812328279018\n",
      "Epoch  820 Loss  0.0011673965491354465\n",
      "Epoch  830 Loss  0.0011185677722096443\n",
      "Epoch  840 Loss  0.0010730980429798365\n",
      "Epoch  850 Loss  0.001030601211823523\n",
      "Epoch  860 Loss  0.0009908693609759212\n",
      "Epoch  870 Loss  0.0009536353754810989\n",
      "Epoch  880 Loss  0.000918750767596066\n",
      "Epoch  890 Loss  0.0008860075613483787\n",
      "Epoch  900 Loss  0.0008551679202355444\n",
      "Epoch  910 Loss  0.0008260833565145731\n",
      "Epoch  920 Loss  0.0007986647542566061\n",
      "Epoch  930 Loss  0.0007727632764726877\n",
      "Epoch  940 Loss  0.0007482602959498763\n",
      "Epoch  950 Loss  0.0007250960916280746\n",
      "Epoch  960 Loss  0.0007030925480648875\n",
      "Epoch  970 Loss  0.0006822792929597199\n",
      "Epoch  980 Loss  0.0006624181987717748\n",
      "Epoch  990 Loss  0.0006435690447688103\n",
      "Epoch  1000 Loss  0.0006256127380765975\n",
      "Epoch  1010 Loss  0.0006085493951104581\n",
      "Epoch  1020 Loss  0.0005922598647885025\n",
      "Epoch  1030 Loss  0.0005766847170889378\n",
      "Epoch  1040 Loss  0.0005618537543341517\n",
      "Epoch  1050 Loss  0.0005476479418575764\n",
      "Epoch  1060 Loss  0.000534037419129163\n",
      "Epoch  1070 Loss  0.0005210521048866212\n",
      "Epoch  1080 Loss  0.000508572906255722\n",
      "Epoch  1090 Loss  0.0004965998814441264\n",
      "Epoch  1100 Loss  0.0004851329140365124\n",
      "Epoch  1110 Loss  0.00047414234722964466\n",
      "Epoch  1120 Loss  0.00046350902994163334\n",
      "Epoch  1130 Loss  0.00045335214235819876\n",
      "Epoch  1140 Loss  0.0004435525042936206\n",
      "Epoch  1150 Loss  0.00043414003448560834\n",
      "Epoch  1160 Loss  0.00042505504097789526\n",
      "Epoch  1170 Loss  0.0004162976401858032\n",
      "Epoch  1180 Loss  0.0004078380297869444\n",
      "Epoch  1190 Loss  0.0003997059538960457\n",
      "Epoch  1200 Loss  0.0003918121219612658\n",
      "Epoch  1210 Loss  0.000384245824534446\n",
      "Epoch  1220 Loss  0.00037688802694901824\n",
      "Epoch  1230 Loss  0.0003697982174344361\n",
      "Epoch  1240 Loss  0.00036297645419836044\n",
      "Epoch  1250 Loss  0.00035627384204417467\n",
      "Epoch  1260 Loss  0.00034986904938705266\n",
      "Epoch  1270 Loss  0.00034361312282271683\n",
      "Epoch  1280 Loss  0.0003375656669959426\n",
      "Epoch  1290 Loss  0.00033172674011439085\n",
      "Epoch  1300 Loss  0.00032606651075184345\n",
      "Epoch  1310 Loss  0.0003206147812306881\n",
      "Epoch  1320 Loss  0.0003152225399389863\n",
      "Epoch  1330 Loss  0.00031006865901872516\n",
      "Epoch  1340 Loss  0.00030503387097269297\n",
      "Epoch  1350 Loss  0.00030014803633093834\n",
      "Epoch  1360 Loss  0.0002953813527710736\n",
      "Epoch  1370 Loss  0.0002907337329816073\n",
      "Epoch  1380 Loss  0.00028629470034502447\n",
      "Epoch  1390 Loss  0.0002818854118231684\n",
      "Epoch  1400 Loss  0.0002775952743832022\n",
      "Epoch  1410 Loss  0.0002735136658884585\n",
      "Epoch  1420 Loss  0.00026949160383082926\n",
      "Epoch  1430 Loss  0.0002655291464179754\n",
      "Epoch  1440 Loss  0.0002617156133055687\n",
      "Epoch  1450 Loss  0.00025799142895266414\n",
      "Epoch  1460 Loss  0.00025432684924453497\n",
      "Epoch  1470 Loss  0.0002507813915144652\n",
      "Epoch  1480 Loss  0.0002473253116477281\n",
      "Epoch  1490 Loss  0.00024398838286288083\n",
      "Epoch  1500 Loss  0.00024071105872280896\n",
      "Epoch  1510 Loss  0.00023749328101985157\n",
      "Epoch  1520 Loss  0.00023433509340975434\n",
      "Epoch  1530 Loss  0.00023129605688154697\n",
      "Epoch  1540 Loss  0.0002282868226757273\n",
      "Epoch  1550 Loss  0.0002253967395517975\n",
      "Epoch  1560 Loss  0.00022253644419834018\n",
      "Epoch  1570 Loss  0.00021970595116727054\n",
      "Epoch  1580 Loss  0.00021696480689570308\n",
      "Epoch  1590 Loss  0.00021434284280985594\n",
      "Epoch  1600 Loss  0.0002116910764016211\n",
      "Epoch  1610 Loss  0.0002091584901791066\n",
      "Epoch  1620 Loss  0.00020665567717514932\n",
      "Epoch  1630 Loss  0.00020421246881596744\n",
      "Epoch  1640 Loss  0.00020185862376820296\n",
      "Epoch  1650 Loss  0.00019947497639805079\n",
      "Epoch  1660 Loss  0.000197180692339316\n",
      "Epoch  1670 Loss  0.00019491622515488416\n",
      "Epoch  1680 Loss  0.00019271133351139724\n",
      "Epoch  1690 Loss  0.00019059583428315818\n",
      "Epoch  1700 Loss  0.00018842073041014373\n",
      "Epoch  1710 Loss  0.0001863648067228496\n",
      "Epoch  1720 Loss  0.00018433865625411272\n",
      "Epoch  1730 Loss  0.00018234232265967876\n",
      "Epoch  1740 Loss  0.00018034595996141434\n",
      "Epoch  1750 Loss  0.00017846879200078547\n",
      "Epoch  1760 Loss  0.0001766214263625443\n",
      "Epoch  1770 Loss  0.00017471445607952774\n",
      "Epoch  1780 Loss  0.00017292665143031627\n",
      "Epoch  1790 Loss  0.0001711388467811048\n",
      "Epoch  1800 Loss  0.00016944044909905642\n",
      "Epoch  1810 Loss  0.00016771224909462035\n",
      "Epoch  1820 Loss  0.00016598403453826904\n",
      "Epoch  1830 Loss  0.0001643452123971656\n",
      "Epoch  1840 Loss  0.0001627361634746194\n",
      "Epoch  1850 Loss  0.00016115691687446088\n",
      "Epoch  1860 Loss  0.0001595776848262176\n",
      "Epoch  1870 Loss  0.00015802824054844677\n",
      "Epoch  1880 Loss  0.00015650858404114842\n",
      "Epoch  1890 Loss  0.00015501872985623777\n",
      "Epoch  1900 Loss  0.00015358845121227205\n",
      "Epoch  1910 Loss  0.00015215820167213678\n",
      "Epoch  1920 Loss  0.00015069812070578337\n",
      "Epoch  1930 Loss  0.0001493274321546778\n",
      "Epoch  1940 Loss  0.00014795675815548748\n",
      "Epoch  1950 Loss  0.00014661587192676961\n",
      "Epoch  1960 Loss  0.00014530478802043945\n",
      "Epoch  1970 Loss  0.00014399368956219405\n",
      "Epoch  1980 Loss  0.00014274219574872404\n",
      "Epoch  1990 Loss  0.00014146088506095111\n",
      "Epoch  2000 Loss  0.0001402391935698688\n",
      "Epoch  2010 Loss  0.00013898768520448357\n",
      "Epoch  2020 Loss  0.0001378255692543462\n",
      "Epoch  2030 Loss  0.00013663366553373635\n",
      "Epoch  2040 Loss  0.00013544173270929605\n",
      "Epoch  2050 Loss  0.00013427961675915867\n",
      "Epoch  2060 Loss  0.000133147303131409\n",
      "Epoch  2070 Loss  0.00013207457959651947\n",
      "Epoch  2080 Loss  0.00013100184150971472\n",
      "Epoch  2090 Loss  0.00012986952788196504\n",
      "Epoch  2100 Loss  0.0001287967897951603\n",
      "Epoch  2110 Loss  0.0001278134441236034\n",
      "Epoch  2120 Loss  0.00012674070603679866\n",
      "Epoch  2130 Loss  0.0001257275725947693\n",
      "Epoch  2140 Loss  0.00012471442460082471\n",
      "Epoch  2150 Loss  0.00012376088125165552\n",
      "Epoch  2160 Loss  0.00012277753558009863\n",
      "Epoch  2170 Loss  0.00012182399950688705\n",
      "Epoch  2180 Loss  0.00012090025120414793\n",
      "Epoch  2190 Loss  0.00011997649562545121\n",
      "Epoch  2200 Loss  0.00011902295227628201\n",
      "Epoch  2210 Loss  0.00011812898446805775\n",
      "Epoch  2220 Loss  0.00011723503848770633\n",
      "Epoch  2230 Loss  0.00011634107795543969\n",
      "Epoch  2240 Loss  0.00011544711014721543\n",
      "Epoch  2250 Loss  0.00011461276153568178\n",
      "Epoch  2260 Loss  0.00011374860332580283\n",
      "Epoch  2270 Loss  0.00011291424743831158\n",
      "Epoch  2280 Loss  0.00011207987699890509\n",
      "Epoch  2290 Loss  0.00011124551383545622\n"
     ]
    },
    {
     "name": "stdout",
     "output_type": "stream",
     "text": [
      "Epoch  2300 Loss  0.00011047074804082513\n",
      "Epoch  2310 Loss  0.00010969598952215165\n",
      "Epoch  2320 Loss  0.00010889140685321763\n",
      "Epoch  2330 Loss  0.00010811664105858654\n",
      "Epoch  2340 Loss  0.00010737167031038553\n",
      "Epoch  2350 Loss  0.00010662669956218451\n",
      "Epoch  2360 Loss  0.00010591151658445597\n",
      "Epoch  2370 Loss  0.00010516655311221257\n",
      "Epoch  2380 Loss  0.00010436198499519378\n",
      "Epoch  2390 Loss  0.00010370639938628301\n",
      "Epoch  2400 Loss  0.00010302102600689977\n",
      "Epoch  2410 Loss  0.00010230585030512884\n",
      "Epoch  2420 Loss  0.00010162046964978799\n",
      "Epoch  2430 Loss  0.00010090529394801706\n",
      "Epoch  2440 Loss  0.00010021991329267621\n",
      "Epoch  2444 Loss  9.99815238174051e-05\n",
      "Training accuracy is  1.0\n",
      "Training accuracy is  1.0\n"
     ]
    }
   ],
   "source": [
    "torch.manual_seed(1)\n",
    "#%% train\n",
    "net = Net()\n",
    "\n",
    "# create a stochastic gradient descent optimizer\n",
    "learning_rate = .02\n",
    "optimizer = torch.optim.SGD(net.parameters(), lr=learning_rate, momentum=0.95)\n",
    "# optimizer = torch.optim.Adam(net.parameters(), lr=learning_rate)\n",
    "\n",
    "\n",
    "# create a loss function\n",
    "#criterion = nn.CrossEntropyLoss()\n",
    "criterion = nn.NLLLoss()\n",
    "\n",
    "nepochs = 40000\n",
    "data, target = X, y\n",
    "# run the main training loop\n",
    "for epoch in range(nepochs):\n",
    "#    adjust learning rate if desired\n",
    "#    if epoch % 3000 == 0 and epoch <= 24000:\n",
    "#        for g in optimizer.param_groups:\n",
    "#            g['lr'] = g['lr']/2\n",
    "    optimizer.zero_grad()\n",
    "    # forward propagate\n",
    "    net_out = net(data)\n",
    "    # compute loss\n",
    "    loss = criterion(net_out, target)\n",
    "    \n",
    "    # backpropagate\n",
    "    loss.backward()\n",
    "    # update parameters\n",
    "    optimizer.step()\n",
    "    # print out report\n",
    "    \n",
    "    if epoch % 10 == 0:\n",
    "        print('Epoch ', epoch, 'Loss ', loss.item())\n",
    "        net_out = net(data)\n",
    "        pred = net_out.data.max(1)[1]  # get the index of the max log-probability\n",
    "        correctidx = pred.eq(target.data) \n",
    "        ncorrect = correctidx.sum()\n",
    "        accuracy = ncorrect.item()/len(data)\n",
    "        #if accuracy == 1:\n",
    "        #    break\n",
    "        #print('Training accuracy is ', accuracy)\n",
    "    \n",
    "    if loss.item() < 0.0001:\n",
    "        print('Epoch ', epoch, 'Loss ', loss.item())\n",
    "        print('Training accuracy is ', accuracy)\n",
    "        break\n",
    "        \n",
    "#%% compute accuracy on training data\n",
    "    \n",
    "net_out = net(data)\n",
    "pred = net_out.data.max(1)[1]  # get the index of the max log-probability\n",
    "correctidx = pred.eq(target.data) \n",
    "ncorrect = correctidx.sum()\n",
    "accuracy = ncorrect.item()/len(data)\n",
    "print('Training accuracy is ', accuracy)"
   ]
  },
  {
   "cell_type": "code",
   "execution_count": 259,
   "id": "bf9118df",
   "metadata": {},
   "outputs": [
    {
     "data": {
      "text/plain": [
       "<matplotlib.collections.PathCollection at 0x29758ff15e0>"
      ]
     },
     "execution_count": 259,
     "metadata": {},
     "output_type": "execute_result"
    },
    {
     "data": {
      "image/png": "[encoded data removed]",
      "text/plain": [
       "<Figure size 432x288 with 1 Axes>"
      ]
     },
     "metadata": {
      "needs_background": "light"
     },
     "output_type": "display_data"
    }
   ],
   "source": [
    "plt.scatter(X[:, 0], X[:, 1], c=pred, cmap=plt.cm.Spectral, s = 50)"
   ]
  },
  {
   "cell_type": "code",
   "execution_count": 260,
   "id": "f8b2076f",
   "metadata": {},
   "outputs": [
    {
     "name": "stderr",
     "output_type": "stream",
     "text": [
      "<ipython-input-250-2500588065da>:26: UserWarning: Implicit dimension choice for log_softmax has been deprecated. Change the call to include dim=X as an argument.\n",
      "  return F.log_softmax(x)\n"
     ]
    },
    {
     "data": {
      "image/png": "[encoded data removed]",
      "text/plain": [
       "<Figure size 432x288 with 1 Axes>"
      ]
     },
     "metadata": {
      "needs_background": "light"
     },
     "output_type": "display_data"
    }
   ],
   "source": [
    "plot_decision_boundary(net, X, y)"
   ]
  },
  {
   "cell_type": "code",
   "execution_count": 261,
   "id": "abf24d09",
   "metadata": {},
   "outputs": [
    {
     "name": "stdout",
     "output_type": "stream",
     "text": [
      "Parameter containing:\n",
      "tensor([[ 0.2384, -0.3121],\n",
      "        [-0.7682,  0.7971],\n",
      "        [-1.3349,  1.4042]], requires_grad=True)\n",
      "Parameter containing:\n",
      "tensor([[-0.1048,  0.1755, -0.3370],\n",
      "        [ 0.1118,  1.5274, -1.7594],\n",
      "        [-0.0520,  0.0837, -0.0023]], requires_grad=True)\n",
      "Parameter containing:\n",
      "tensor([[-0.2660, -0.4544, -0.2490],\n",
      "        [-0.2839, -1.0453,  0.3442],\n",
      "        [ 0.3242, -1.5960,  0.3579]], requires_grad=True)\n",
      "Parameter containing:\n",
      "tensor([[-0.6554, -1.4346, -1.8621],\n",
      "        [ 0.7625,  0.4104,  0.9134],\n",
      "        [-0.2683,  0.5665, -0.2443]], requires_grad=True)\n",
      "Parameter containing:\n",
      "tensor([[ 2.6531, -1.0153,  0.1698],\n",
      "        [-2.5231,  0.6456, -0.5551]], requires_grad=True)\n"
     ]
    }
   ],
   "source": [
    "print(net.fc1.weight)\n",
    "print(net.fc2.weight)\n",
    "print(net.fc3.weight)\n",
    "print(net.fc4.weight)\n",
    "print(net.fc5.weight)"
   ]
  },
  {
   "cell_type": "markdown",
   "id": "bc745a39",
   "metadata": {},
   "source": [
    "## Part c"
   ]
  },
  {
   "cell_type": "code",
   "execution_count": 262,
   "id": "54fd7229",
   "metadata": {},
   "outputs": [],
   "source": [
    "class Net_smallest(nn.Module):\n",
    "    \n",
    "    def __init__(self):\n",
    "        super(Net_smallest, self).__init__()\n",
    "        self.fc1 = nn.Linear(2, 5)\n",
    "        self.fc2 = nn.Linear(5, 2)\n",
    "        \n",
    "    def forward(self, x):\n",
    "        x = F.relu(self.fc1(x))\n",
    "        x = F.relu(self.fc2(x))\n",
    "        return F.log_softmax(x)\n",
    "        #return F.softmax(x)"
   ]
  },
  {
   "cell_type": "code",
   "execution_count": 263,
   "id": "5a80ab36",
   "metadata": {},
   "outputs": [
    {
     "name": "stdout",
     "output_type": "stream",
     "text": [
      "Epoch  0 Loss  0.713304340839386\n",
      "Epoch  10 Loss  0.6932183504104614\n",
      "Epoch  20 Loss  0.6886227130889893\n",
      "Epoch  30 Loss  0.6807949542999268\n",
      "Epoch  40 Loss  0.6718776226043701\n",
      "Epoch  50 Loss  0.6607361435890198\n",
      "Epoch  60 Loss  0.6476262807846069\n",
      "Epoch  70 Loss  0.632671594619751\n",
      "Epoch  80 Loss  0.6155209541320801\n",
      "Epoch  80 Loss  0.6155209541320801\n",
      "Training accuracy is  1.0\n",
      "Training accuracy is  1.0\n"
     ]
    },
    {
     "name": "stderr",
     "output_type": "stream",
     "text": [
      "<ipython-input-262-00236a89fdf1>:14: UserWarning: Implicit dimension choice for log_softmax has been deprecated. Change the call to include dim=X as an argument.\n",
      "  return F.log_softmax(x)\n"
     ]
    }
   ],
   "source": [
    "torch.manual_seed(1)\n",
    "\n",
    "#%% train\n",
    "net = Net_smallest()\n",
    "\n",
    "# create a stochastic gradient descent optimizer\n",
    "learning_rate = .01\n",
    "# optimizer = torch.optim.SGD(net.parameters(), lr=learning_rate, momentum=0.9)\n",
    "optimizer = torch.optim.Adam(net.parameters(), lr=learning_rate)\n",
    "\n",
    "\n",
    "# create a loss function\n",
    "#criterion = nn.CrossEntropyLoss()\n",
    "criterion = nn.NLLLoss()\n",
    "\n",
    "nepochs = 40000\n",
    "data, target = X, y\n",
    "# run the main training loop \n",
    "for epoch in range(nepochs):\n",
    "    #    adjust learning rate if desired\n",
    "    if epoch % 3000 == 0 and epoch <= 24000:\n",
    "        for g in optimizer.param_groups:\n",
    "            g['lr'] = g['lr']/2\n",
    "    optimizer.zero_grad()\n",
    "    # forward propagate\n",
    "    net_out = net(data)\n",
    "    # compute loss\n",
    "    loss = criterion(net_out, target)\n",
    "    \n",
    "    # backpropagate\n",
    "    loss.backward()\n",
    "    # update parameters\n",
    "    optimizer.step()\n",
    "    # print out report\n",
    "    \n",
    "    if epoch % 10 == 0:\n",
    "        print('Epoch ', epoch, 'Loss ', loss.item())\n",
    "        net_out = net(data)\n",
    "        pred = net_out.data.max(1)[1]  # get the index of the max log-probability\n",
    "        correctidx = pred.eq(target.data) \n",
    "        ncorrect = correctidx.sum()\n",
    "        accuracy = ncorrect.item()/len(data)\n",
    "        if accuracy == 1:\n",
    "            print('Epoch ', epoch, 'Loss ', loss.item())\n",
    "            print('Training accuracy is ', accuracy)\n",
    "            break\n",
    "        \n",
    "#%% compute accuracy on training data\n",
    "net_out = net(data)\n",
    "pred = net_out.data.max(1)[1]  # get the index of the max log-probability\n",
    "correctidx = pred.eq(target.data) \n",
    "ncorrect = correctidx.sum()\n",
    "accuracy = ncorrect.item()/len(data)\n",
    "print('Training accuracy is ', accuracy)"
   ]
  },
  {
   "cell_type": "code",
   "execution_count": 264,
   "id": "b0a8b558",
   "metadata": {},
   "outputs": [
    {
     "data": {
      "text/plain": [
       "<matplotlib.collections.PathCollection at 0x29758dfcca0>"
      ]
     },
     "execution_count": 264,
     "metadata": {},
     "output_type": "execute_result"
    },
    {
     "data": {
      "image/png": "[encoded data removed]",
      "text/plain": [
       "<Figure size 432x288 with 1 Axes>"
      ]
     },
     "metadata": {
      "needs_background": "light"
     },
     "output_type": "display_data"
    }
   ],
   "source": [
    "plt.scatter(X[:, 0], X[:, 1], c=pred, cmap=plt.cm.Spectral, s = 50)"
   ]
  },
  {
   "cell_type": "code",
   "execution_count": 266,
   "id": "a25d8abb",
   "metadata": {},
   "outputs": [
    {
     "name": "stderr",
     "output_type": "stream",
     "text": [
      "<ipython-input-262-00236a89fdf1>:14: UserWarning: Implicit dimension choice for log_softmax has been deprecated. Change the call to include dim=X as an argument.\n",
      "  return F.log_softmax(x)\n"
     ]
    },
    {
     "data": {
      "image/png": "[encoded data removed]",
      "text/plain": [
       "<Figure size 432x288 with 1 Axes>"
      ]
     },
     "metadata": {
      "needs_background": "light"
     },
     "output_type": "display_data"
    }
   ],
   "source": [
    "plot_decision_boundary(net, X, y)"
   ]
  },
  {
   "cell_type": "code",
   "execution_count": 267,
   "id": "38250a76",
   "metadata": {},
   "outputs": [
    {
     "name": "stdout",
     "output_type": "stream",
     "text": [
      "Parameter containing:\n",
      "tensor([[ 0.4105, -0.2601],\n",
      "        [-0.0891,  0.4562],\n",
      "        [-0.8403,  0.8193],\n",
      "        [-0.1455,  0.2682],\n",
      "        [ 0.0315, -0.0866]], requires_grad=True)\n",
      "Parameter containing:\n",
      "tensor([[-0.2940,  0.1987, -0.4466,  0.3153,  0.0813],\n",
      "        [-0.0634, -0.2411,  0.3807, -0.1173, -0.0854]], requires_grad=True)\n"
     ]
    }
   ],
   "source": [
    "print(net.fc1.weight)\n",
    "print(net.fc2.weight)"
   ]
  }
 ],
 "metadata": {
  "kernelspec": {
   "display_name": "Python 3",
   "language": "python",
   "name": "python3"
  },
  "language_info": {
   "codemirror_mode": {
    "name": "ipython",
    "version": 3
   },
   "file_extension": ".py",
   "mimetype": "text/x-python",
   "name": "python",
   "nbconvert_exporter": "python",
   "pygments_lexer": "ipython3",
   "version": "3.8.8"
  }
 },
 "nbformat": 4,
 "nbformat_minor": 5
}
